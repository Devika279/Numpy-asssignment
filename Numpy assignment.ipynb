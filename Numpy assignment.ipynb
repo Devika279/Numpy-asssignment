{
 "cells": [
  {
   "cell_type": "markdown",
   "id": "820be2a3-9539-43de-bca9-cd8d913d20cc",
   "metadata": {},
   "source": [
    "theory"
   ]
  },
  {
   "cell_type": "markdown",
   "id": "2575a985-b5c1-4247-aee3-538c755b9cee",
   "metadata": {},
   "source": [
    "question 1"
   ]
  },
  {
   "cell_type": "markdown",
   "id": "189b93d0-7668-42e0-a747-e1f629945506",
   "metadata": {},
   "source": [
    "Numpy operates very quickly as it is bulit using c++,\n",
    "it is used for mathematical operation,\n",
    "it can be integrated with other library like matplotlib,seaborn etc"
   ]
  },
  {
   "cell_type": "code",
   "execution_count": null,
   "id": "06e4f5d5-482c-4dd1-934e-a9d472628c6e",
   "metadata": {},
   "outputs": [],
   "source": []
  },
  {
   "cell_type": "markdown",
   "id": "e66516ae-174e-4762-b622-a45838181308",
   "metadata": {},
   "source": [
    "question 2\n",
    "np.mean() - it is used to find the arithmatic mean of any data set which include integer,float etc and ignores NaN value\n",
    "np.average() - it is used to find weighted average and means like geometri mean and harmonic mean. its is more flexible"
   ]
  },
  {
   "cell_type": "code",
   "execution_count": null,
   "id": "4d8941c1-8df2-42ba-8c2e-ba445408126c",
   "metadata": {},
   "outputs": [],
   "source": []
  },
  {
   "cell_type": "markdown",
   "id": "a258802c-b45e-4613-955b-828f996db490",
   "metadata": {},
   "source": [
    "question 3"
   ]
  },
  {
   "cell_type": "code",
   "execution_count": 3,
   "id": "0cbe59bb-b89a-4102-8011-4ecc70742485",
   "metadata": {},
   "outputs": [
    {
     "name": "stdout",
     "output_type": "stream",
     "text": [
      "[5 4 3 2 1]\n"
     ]
    }
   ],
   "source": [
    "import numpy as np\n",
    "a=np.array([1,2,3,4,5])\n",
    "reverse_a=a[::-1]\n",
    "print(reverse_a)"
   ]
  },
  {
   "cell_type": "code",
   "execution_count": 4,
   "id": "264ff510-dc5d-41b4-9ecd-e7d87e9ac278",
   "metadata": {},
   "outputs": [
    {
     "name": "stdout",
     "output_type": "stream",
     "text": [
      "[[3 2 1]\n",
      " [6 5 4]]\n"
     ]
    }
   ],
   "source": [
    "#2d array\n",
    "b=np.array([[1,2,3],[4,5,6]])\n",
    "reverse_b= b[ : ,::-1]\n",
    "print(reverse_b)"
   ]
  },
  {
   "cell_type": "code",
   "execution_count": 5,
   "id": "9b980391-95a5-4471-8668-8d25b2ca86c6",
   "metadata": {},
   "outputs": [
    {
     "name": "stdout",
     "output_type": "stream",
     "text": [
      "[[6 5 4]\n",
      " [3 2 1]]\n"
     ]
    }
   ],
   "source": [
    "reverse_b= b[ ::-1 ,::-1]\n",
    "print(reverse_b)"
   ]
  },
  {
   "cell_type": "code",
   "execution_count": 6,
   "id": "f298e03c-fa5e-431e-b6d3-518153c23778",
   "metadata": {},
   "outputs": [
    {
     "name": "stdout",
     "output_type": "stream",
     "text": [
      "[[4 5 6]\n",
      " [1 2 3]]\n"
     ]
    }
   ],
   "source": [
    "reverse_b= b[ ::-1 ,:]\n",
    "print(reverse_b)"
   ]
  },
  {
   "cell_type": "code",
   "execution_count": null,
   "id": "6671f9a9-f5b2-46a8-b331-3e7e4b8bbff7",
   "metadata": {},
   "outputs": [],
   "source": []
  },
  {
   "cell_type": "code",
   "execution_count": null,
   "id": "49c13fac-474c-4d4c-8204-ed41b07e4d89",
   "metadata": {},
   "outputs": [],
   "source": []
  },
  {
   "cell_type": "markdown",
   "id": "af2d33a4-8f55-4a7f-9704-19043a7cfbc8",
   "metadata": {},
   "source": [
    "question 4"
   ]
  },
  {
   "cell_type": "code",
   "execution_count": 8,
   "id": "f10f79ea-7215-4ec7-83b0-413e74430c70",
   "metadata": {},
   "outputs": [
    {
     "data": {
      "text/plain": [
       "array([1, 2, 3, 4, 5])"
      ]
     },
     "execution_count": 8,
     "metadata": {},
     "output_type": "execute_result"
    }
   ],
   "source": [
    "a"
   ]
  },
  {
   "cell_type": "code",
   "execution_count": 10,
   "id": "792b0d31-7d39-4719-859a-59e0657d9f34",
   "metadata": {},
   "outputs": [
    {
     "data": {
      "text/plain": [
       "dtype('int64')"
      ]
     },
     "execution_count": 10,
     "metadata": {},
     "output_type": "execute_result"
    }
   ],
   "source": [
    "a.dtype #data type ia integer"
   ]
  },
  {
   "cell_type": "code",
   "execution_count": 12,
   "id": "2ce8f8ee-41a2-45e3-a9f2-d92e243b4606",
   "metadata": {},
   "outputs": [
    {
     "data": {
      "text/plain": [
       "numpy.int64"
      ]
     },
     "execution_count": 12,
     "metadata": {},
     "output_type": "execute_result"
    }
   ],
   "source": [
    "#type()\n",
    "type(a[0])"
   ]
  },
  {
   "cell_type": "code",
   "execution_count": 13,
   "id": "270e35a8-2225-4fcf-bd21-c2dc8082a31f",
   "metadata": {},
   "outputs": [
    {
     "name": "stdout",
     "output_type": "stream",
     "text": [
      "class:  ndarray\n",
      "shape:  (5,)\n",
      "strides:  (8,)\n",
      "itemsize:  8\n",
      "aligned:  True\n",
      "contiguous:  True\n",
      "fortran:  True\n",
      "data pointer: 0x1c1ab418440\n",
      "byteorder:  little\n",
      "byteswap:  False\n",
      "type: int64\n"
     ]
    }
   ],
   "source": [
    "#info()\n",
    "np.info(a)"
   ]
  },
  {
   "cell_type": "code",
   "execution_count": 14,
   "id": "266d9eba-d028-44de-bf2e-d65efc26ac19",
   "metadata": {},
   "outputs": [],
   "source": [
    "#these are the different ways to know the data type"
   ]
  },
  {
   "cell_type": "code",
   "execution_count": null,
   "id": "798942dd-7894-4626-96a2-e59156a00ff5",
   "metadata": {},
   "outputs": [],
   "source": []
  },
  {
   "cell_type": "code",
   "execution_count": null,
   "id": "b3ca88df-0384-4c99-ba7a-5dfaf5d9ff2a",
   "metadata": {},
   "outputs": [],
   "source": []
  },
  {
   "cell_type": "markdown",
   "id": "d36f1db0-6dbe-4d1a-8f10-5fbbf1736097",
   "metadata": {},
   "source": [
    "question 5\n",
    "nparray stores contigeous data\n",
    "stores homogenous data\n",
    "stores multidimension data\n",
    "it has shapes and size"
   ]
  },
  {
   "cell_type": "code",
   "execution_count": null,
   "id": "5acd38d4-72a0-453c-862a-62403a389e30",
   "metadata": {},
   "outputs": [],
   "source": []
  },
  {
   "cell_type": "markdown",
   "id": "cb7dd9e0-9d85-4f37-8fc8-e6ec9abc8488",
   "metadata": {},
   "source": [
    "question 7\n",
    "v stack arranges list under each other , and all list should have same no.of columns\n",
    "h stack arrange list beside each other, all list should have same no.of rows"
   ]
  },
  {
   "cell_type": "code",
   "execution_count": 15,
   "id": "8f00e768-a178-492b-b7f4-402a6eb7a4db",
   "metadata": {},
   "outputs": [
    {
     "data": {
      "text/plain": [
       "array([[1, 2],\n",
       "       [3, 4],\n",
       "       [5, 6],\n",
       "       [7, 8]])"
      ]
     },
     "execution_count": 15,
     "metadata": {},
     "output_type": "execute_result"
    }
   ],
   "source": [
    "#vstack\n",
    "a=np.array([[1,2],[3,4]])\n",
    "b=np.array([[5,6],[7,8]])\n",
    "np.vstack((a,b))"
   ]
  },
  {
   "cell_type": "code",
   "execution_count": 16,
   "id": "9bab3d45-5486-4495-ba48-c3913f15e959",
   "metadata": {},
   "outputs": [
    {
     "data": {
      "text/plain": [
       "array([[1, 2, 5, 6],\n",
       "       [3, 4, 7, 8]])"
      ]
     },
     "execution_count": 16,
     "metadata": {},
     "output_type": "execute_result"
    }
   ],
   "source": [
    "np.hstack((a,b))"
   ]
  },
  {
   "cell_type": "code",
   "execution_count": null,
   "id": "0148834b-225f-4af5-ad94-dcd6687b383f",
   "metadata": {},
   "outputs": [],
   "source": []
  },
  {
   "cell_type": "code",
   "execution_count": null,
   "id": "6f096a0f-ee27-4a72-a0b6-223ba4f32f47",
   "metadata": {},
   "outputs": [],
   "source": []
  },
  {
   "cell_type": "markdown",
   "id": "a487fc1e-ce75-4e2a-bf51-6d350c7e9ded",
   "metadata": {},
   "source": [
    "question 8"
   ]
  },
  {
   "cell_type": "code",
   "execution_count": 17,
   "id": "301d313f-1edd-430b-88ec-76c1cd383d25",
   "metadata": {},
   "outputs": [
    {
     "data": {
      "text/plain": [
       "array([[2, 1],\n",
       "       [4, 3]])"
      ]
     },
     "execution_count": 17,
     "metadata": {},
     "output_type": "execute_result"
    }
   ],
   "source": [
    "np.fliplr(a) #it exchanges the column"
   ]
  },
  {
   "cell_type": "code",
   "execution_count": 18,
   "id": "2663edf5-288d-4817-9f6e-462bfd518494",
   "metadata": {},
   "outputs": [
    {
     "data": {
      "text/plain": [
       "array([[3, 4],\n",
       "       [1, 2]])"
      ]
     },
     "execution_count": 18,
     "metadata": {},
     "output_type": "execute_result"
    }
   ],
   "source": [
    "np.flipud(a)#it echanges the rows"
   ]
  },
  {
   "cell_type": "code",
   "execution_count": null,
   "id": "c5bca094-4603-4e42-ba65-1c8b7e323816",
   "metadata": {},
   "outputs": [],
   "source": []
  },
  {
   "cell_type": "markdown",
   "id": "b6ec18f9-7d49-499b-9bd5-bd3933f144f7",
   "metadata": {},
   "source": [
    "question 9"
   ]
  },
  {
   "cell_type": "code",
   "execution_count": 20,
   "id": "25d6e4ce-d120-4005-b8dd-f87585b4fbea",
   "metadata": {},
   "outputs": [
    {
     "data": {
      "text/plain": [
       "[array([[1, 2]]), array([[3, 4]])]"
      ]
     },
     "execution_count": 20,
     "metadata": {},
     "output_type": "execute_result"
    }
   ],
   "source": [
    "np.array_split(a,2) #here the whole array is divided into 2 pices"
   ]
  },
  {
   "cell_type": "code",
   "execution_count": null,
   "id": "e449d68d-7a99-4d9f-a356-01ec1c55a6f5",
   "metadata": {},
   "outputs": [],
   "source": []
  },
  {
   "cell_type": "markdown",
   "id": "30cc72cd-55f4-4a6f-8dce-decabe414e8c",
   "metadata": {},
   "source": [
    "question 10"
   ]
  },
  {
   "cell_type": "code",
   "execution_count": 26,
   "id": "f1e4b1c6-0c2d-4d02-8231-7b86a7a135e4",
   "metadata": {},
   "outputs": [
    {
     "data": {
      "text/plain": [
       "array([1, 2])"
      ]
     },
     "execution_count": 26,
     "metadata": {},
     "output_type": "execute_result"
    }
   ],
   "source": [
    "a=np.array([1,2])\n",
    "a"
   ]
  },
  {
   "cell_type": "code",
   "execution_count": 27,
   "id": "223816c7-da0b-4c8d-9d93-b5b375297a53",
   "metadata": {},
   "outputs": [
    {
     "data": {
      "text/plain": [
       "array([[5, 6],\n",
       "       [7, 8]])"
      ]
     },
     "execution_count": 27,
     "metadata": {},
     "output_type": "execute_result"
    }
   ],
   "source": [
    "b"
   ]
  },
  {
   "cell_type": "code",
   "execution_count": 29,
   "id": "7e17f973-a597-47f1-a3e0-1a32279674fd",
   "metadata": {},
   "outputs": [
    {
     "data": {
      "text/plain": [
       "array([[ 6,  8],\n",
       "       [ 8, 10]])"
      ]
     },
     "execution_count": 29,
     "metadata": {},
     "output_type": "execute_result"
    }
   ],
   "source": [
    "#broadcast\n",
    "result=a+b\n",
    "result"
   ]
  },
  {
   "cell_type": "code",
   "execution_count": 30,
   "id": "7ea501a1-65e5-41b2-b213-9d3dad4dee41",
   "metadata": {},
   "outputs": [
    {
     "data": {
      "text/plain": [
       "array([2, 4])"
      ]
     },
     "execution_count": 30,
     "metadata": {},
     "output_type": "execute_result"
    }
   ],
   "source": [
    "#vectorization\n",
    "a+a"
   ]
  },
  {
   "cell_type": "code",
   "execution_count": null,
   "id": "e7c7c997-1986-433a-b8d8-763e579387c3",
   "metadata": {},
   "outputs": [],
   "source": []
  }
 ],
 "metadata": {
  "kernelspec": {
   "display_name": "Python 3 (ipykernel)",
   "language": "python",
   "name": "python3"
  },
  "language_info": {
   "codemirror_mode": {
    "name": "ipython",
    "version": 3
   },
   "file_extension": ".py",
   "mimetype": "text/x-python",
   "name": "python",
   "nbconvert_exporter": "python",
   "pygments_lexer": "ipython3",
   "version": "3.12.5"
  }
 },
 "nbformat": 4,
 "nbformat_minor": 5
}
